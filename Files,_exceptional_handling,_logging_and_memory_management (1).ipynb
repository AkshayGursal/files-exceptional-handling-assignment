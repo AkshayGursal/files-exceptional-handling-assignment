{
  "nbformat": 4,
  "nbformat_minor": 0,
  "metadata": {
    "colab": {
      "provenance": []
    },
    "kernelspec": {
      "name": "python3",
      "display_name": "Python 3"
    },
    "language_info": {
      "name": "python"
    }
  },
  "cells": [
    {
      "cell_type": "markdown",
      "source": [
        "1.  What is the difference between interpreted and compiled languages?\n",
        "-->\n",
        "Compiled Languages:\n",
        "1.The entire code is translated into machine code by a compiler before execution.\n",
        "2.Produces a separate executable file (e.g., .exe).\n",
        "3.Usually faster because translation happens only once.\n",
        "Interpreted Languages:\n",
        "1.Code is executed line-by-line by an interpreter at runtime.\n",
        "2.No standalone executable is created.\n",
        "3.Usually slower, but easier to test and debug.\n",
        "\n",
        "2. What is exception handling in Python?\n",
        "-->Exception handling in Python is a way to manage errors that occur during program execution. It uses try, except, else, and finally blocks to catch and handle exceptions gracefully, preventing the program from crashing.\n",
        "\n",
        "3.  What is the purpose of the finally block in exception handling?\n",
        "-->The finally block in Python is used to define code that always runs, whether an exception occurs or not. It is typically used for cleanup actions like closing files or releasing resources.\n",
        "\n",
        "4.  What is logging in Python?\n",
        "-->Logging in Python is the process of recording messages about a program's execution, such as errors, warnings, or general information. It helps with debugging and monitoring the behavior of programs.\n",
        "\n",
        "5.  What is the significance of the __del__ method in Python?\n",
        "-->The __del__ method in Python is a destructor method that is called automatically when an object is about to be destroyed, typically when it goes out of scope or is deleted.\n",
        "\n",
        "6.  What is the difference between import and from ... import in Python?\n",
        "-->In Python, both import and from ... import are used to include modules, but they differ in how they access functions or variables:\n",
        "import module\n",
        "1.Imports the entire module.\n",
        "2.You access functions with the module name.\n",
        "from module import function\n",
        "1.Imports only specific functions or variables from the module.\n",
        "2.You can use them directly without the module name.\n",
        "\n",
        "7. How can you handle multiple exceptions in Python?\n",
        "-->You can handle multiple exceptions in Python using multiple except blocks or by grouping exceptions in a single block using a tuple.\n",
        "\n",
        "8. What is the purpose of the with statement when handling files in Python?\n",
        "-->The with statement in Python is used to safely handle files by automatically managing resources like opening and closing files. It ensures that the file is closed properly, even if an error occurs during file operations.\n",
        "\n",
        "9. What is the difference between multithreading and multiprocessing?\n",
        "-->\n",
        "Multithreading:\n",
        "1. Uses multiple threads within a single process.\n",
        "2. Threads share the same memory space.\n",
        "3. Best for I/O-bound tasks (e.g., file or network operations).\n",
        "4. Limited by Python's Global Interpreter Lock (GIL).\n",
        "\n",
        "Multiprocessing:\n",
        "1. Uses multiple processes, each with its own memory space.\n",
        "2. Ideal for CPU-bound tasks (e.g., heavy calculations).\n",
        "3. Bypasses the GIL, enabling true parallelism.\n",
        "\n",
        "10. What are the advantages of using logging in a program?\n",
        "-->\n",
        "1. Tracks Errors and Events: Helps record errors, warnings, and other events for debugging and analysis.\n",
        "2. Better than print(): Unlike print(), logs can be categorized by severity (INFO, DEBUG, WARNING, etc.) and directed to files, consoles, or remote servers.\n",
        "3. Helps in Debugging: Makes it easier to trace and understand program flow and issues.\n",
        "4. Persistent Record: Logs can be stored over time for long-term monitoring or auditing.\n",
        "5. Customizable: You can filter messages, format them, and set levels of importance.\n",
        "6. Non-intrusive: Logging doesn't interrupt program flow like exceptions or crashes.\n",
        "\n",
        "11. What is memory management in Python?\n",
        "-->Memory management in Python refers to how Python handles the allocation and deallocation of memory for storing data and objects during program execution.\n",
        "\n",
        "12.  What are the basic steps involved in exception handling in Python?\n",
        "-->Try Block: Write the code that might raise an exception inside a try block.\n",
        "Except Block: Handle specific exceptions using one or more except blocks.\n",
        "Else Block (Optional): Executes if no exception occurs in the try block.\n",
        "Finally Block (Optional): Executes no matter what — used for cleanup actions.\n",
        "\n",
        "13. Why is memory management important in Python?\n",
        "-->Memory management is important in Python because it ensures efficient use of system resources, keeps programs running smoothly, and prevents issues like:\n",
        "Memory Leaks: Prevents memory from being wasted by unused objects.\n",
        "Efficient Performance: Helps programs run faster by freeing up memory no longer in use.\n",
        "Stability: Reduces crashes or slowdowns caused by excessive memory usage.\n",
        "Scalability: Allows large or complex applications to manage resources effectively.\n",
        "\n",
        "14. What is the role of try and except in exception handling?\n",
        "The try and except blocks in Python are used for exception handling, allowing you to catch and handle errors without crashing the program.\n",
        "try block:\n",
        "Contains code that might raise an exception.\n",
        "Python tries to run this code.\n",
        "except block:\n",
        "Catches and handles the exception if one occurs in the try block.\n",
        "Prevents the program from stopping due to errors.\n",
        "\n",
        "15.  How does Python's garbage collection system work?\n",
        "-->Python’s garbage collection system automatically manages memory by reclaiming unused objects, helping prevent memory leaks.\n",
        "\n",
        "16.  What is the purpose of the else block in exception handling?\n",
        "-->The else block in Python's exception handling is used to define code that should run only if no exceptions occur in the try block.It Keeps the normal (error-free) code separate from the try block.It Improves clarity by placing code that should only run if everything goes well in its own section.\n",
        "\n",
        "17.  What are the common logging levels in Python?\n",
        "-->Python provides several common logging levels to categorize the importance or severity of log messages. From lowest to highest severity, they are:\n",
        "DEBUG – Detailed information, used for diagnosing problems.\n",
        "Example: logging.debug(\"This is a debug message.\")\n",
        "INFO – General information about program execution.\n",
        "Example: logging.info(\"Program started.\")\n",
        "WARNING – Something unexpected happened, but the program still runs.\n",
        "Example: logging.warning(\"Low disk space.\")\n",
        "ERROR – A more serious problem; the program may not function properly.\n",
        "Example: logging.error(\"File not found.\")\n",
        "CRITICAL – A very serious error, indicating the program may crash.\n",
        "Example: logging.critical(\"System failure!\")\n",
        "\n",
        "18. What is the difference between os.fork() and multiprocessing in Python?\n",
        "-->\n",
        "os.fork():\n",
        "Low-level system call used to create a new process (child) from the current process (parent).\n",
        "Only available on Unix/Linux systems (not supported on Windows).\n",
        "The child process is an exact copy of the parent.\n",
        "Requires manual setup for communication between processes.\n",
        "multiprocessing Module:\n",
        "High-level Python module for creating and managing processes.\n",
        "Cross-platform (✅ works on Windows, macOS, Linux).\n",
        "Provides easy-to-use tools like Process, Queue, Pool, etc.\n",
        "Handles inter-process communication and synchronization.\n",
        "\n",
        "19. What is the importance of closing a file in Python?\n",
        "-->Closing a file in Python is important because it:\n",
        "Frees up system resources – Every open file consumes memory and file handles.\n",
        "Ensures data is saved – For files opened in write or append mode, closing ensures all data is properly written (flushed) to disk.\n",
        "Prevents data corruption – Open files can cause data loss or corruption if the program crashes or the file is left unclosed.\n",
        "Avoids file locking issues – Some systems lock files while they are open, blocking access by other programs.\n",
        "\n",
        "20.  What is the difference between file.read() and file.readline() in Python?\n",
        "-->In Python, file.read() reads the entire file content at once and returns it as a single string, making it suitable for small files. On the other hand, file.readline() reads only one line at a time, which is useful for processing large files line-by-line without loading the entire file into memory.\n",
        "\n",
        "21.  What is the logging module in Python used for?\n",
        "-->The logging module in Python is used to record messages about a program’s execution, such as errors, warnings, or informational events. It helps with debugging and monitoring by allowing you to log messages at different severity levels (DEBUG, INFO, WARNING, ERROR, CRITICAL) and direct them to various outputs like the console or log files.\n",
        "\n",
        "22.  What is the os module in Python used for in file handling?\n",
        "-->The os module in Python is used for interacting with the operating system, especially for file and directory handling. It allows you to perform tasks like creating, deleting, renaming, and checking files or directories. For example, os.remove() deletes a file, os.rename() renames it, and os.path.exists() checks if a file or folder exists.\n",
        "\n",
        "23.  What are the challenges associated with memory management in Python?\n",
        "-->Memory management in Python can face challenges like memory leaks due to unused references or circular references, and performance issues from frequent garbage collection. The Global Interpreter Lock (GIL) can also limit efficient memory use in multi-threaded programs. Additionally, creating too many small or temporary objects can increase memory usage.\n",
        "\n",
        "24. How do you raise an exception manually in Python?\n",
        "-->In Python, you can raise an exception manually using the raise keyword followed by the exception type. For example:#\n",
        "    raise ValueError(\"Invalid input\")\n",
        "\n",
        "25. Why is it important to use multithreading in certain applications?\n",
        "-->Multithreading is important in certain applications because it allows multiple tasks to run concurrently within a single process, improving performance and responsiveness. It is especially useful for I/O-bound tasks like reading files, handling network requests, or user interface operations, where threads can work while waiting for input/output. This leads to faster execution and a smoother user experience without blocking the entire program."
      ],
      "metadata": {
        "id": "HVtaB3sBSsR0"
      }
    },
    {
      "cell_type": "code",
      "source": [
        "#1. How can you open a file for writing in Python and write a string to it?\n",
        "with open(\"example.txt\", \"w\") as file:\n",
        "    file.write(\"Hello, this is a test string.\")\n"
      ],
      "metadata": {
        "id": "K5LF_5tzxL9o"
      },
      "execution_count": 1,
      "outputs": []
    },
    {
      "cell_type": "code",
      "source": [
        "#2. Write a Python program to read the contents of a file and print each line\n",
        "with open(\"example.txt\", \"r\") as file:\n",
        "    for line in file:\n",
        "        print(line.strip())\n"
      ],
      "metadata": {
        "colab": {
          "base_uri": "https://localhost:8080/"
        },
        "id": "h9C4gekDxgtp",
        "outputId": "b73ac92d-f791-4efe-c798-3c43b45bf2a4"
      },
      "execution_count": 2,
      "outputs": [
        {
          "output_type": "stream",
          "name": "stdout",
          "text": [
            "Hello, this is a test string.\n"
          ]
        }
      ]
    },
    {
      "cell_type": "code",
      "source": [
        "#3. How would you handle a case where the file doesn't exist while trying to open it for reading?\n",
        "try:\n",
        "    with open(\"example.txt\", \"r\") as file:\n",
        "        content = file.read()\n",
        "        print(content)\n",
        "except FileNotFoundError:\n",
        "    print(\"The file does not exist.\")\n"
      ],
      "metadata": {
        "colab": {
          "base_uri": "https://localhost:8080/"
        },
        "id": "lf7HqM7IxrxC",
        "outputId": "fb6830b2-cfe0-4f42-92e3-3252035fc856"
      },
      "execution_count": 3,
      "outputs": [
        {
          "output_type": "stream",
          "name": "stdout",
          "text": [
            "Hello, this is a test string.\n"
          ]
        }
      ]
    },
    {
      "cell_type": "code",
      "source": [
        "#4.  Write a Python script that reads from one file and writes its content to another file\n",
        "with open(\"source.txt\", \"w\") as f:\n",
        "    f.write(\"This is the content of source.txt\")\n",
        "try:\n",
        "    with open(\"source.txt\", \"r\") as source_file:\n",
        "        content = source_file.read()\n",
        "\n",
        "    with open(\"destination.txt\", \"w\") as destination_file:\n",
        "        destination_file.write(content)\n",
        "\n",
        "    print(\"Content successfully copied from source.txt to destination.txt\")\n",
        "\n",
        "except FileNotFoundError:\n",
        "    print(\"The source file does not exist.\")"
      ],
      "metadata": {
        "colab": {
          "base_uri": "https://localhost:8080/"
        },
        "id": "yfuvo1lYx6LY",
        "outputId": "830d3668-708f-4c75-aad6-78a366973ab6"
      },
      "execution_count": 6,
      "outputs": [
        {
          "output_type": "stream",
          "name": "stdout",
          "text": [
            "Content successfully copied from source.txt to destination.txt\n"
          ]
        }
      ]
    },
    {
      "cell_type": "code",
      "source": [
        "#5.  How would you catch and handle division by zero error in Python\n",
        "try:\n",
        "    result = 10 / 0\n",
        "except ZeroDivisionError:\n",
        "    print(\"Cannot divide by zero.\")\n"
      ],
      "metadata": {
        "colab": {
          "base_uri": "https://localhost:8080/"
        },
        "id": "BqIQIl2iyFWL",
        "outputId": "5518c164-9a3e-4ca0-bd84-89aafbf9d7a5"
      },
      "execution_count": 7,
      "outputs": [
        {
          "output_type": "stream",
          "name": "stdout",
          "text": [
            "Cannot divide by zero.\n"
          ]
        }
      ]
    },
    {
      "cell_type": "code",
      "source": [
        "#6. Write a Python program that logs an error message to a log file when a division by zero exception occurs.\n",
        "import logging\n",
        "\n",
        "logging.basicConfig(filename='error_log.txt', level=logging.ERROR)\n",
        "\n",
        "try:\n",
        "    result = 10 / 0\n",
        "except ZeroDivisionError as e:\n",
        "    logging.error(\"Division by zero error occurred: %s\", e)\n"
      ],
      "metadata": {
        "colab": {
          "base_uri": "https://localhost:8080/"
        },
        "id": "vuqGySQfyrUu",
        "outputId": "04724caa-988b-42f8-94bc-5be3a43076ee"
      },
      "execution_count": 8,
      "outputs": [
        {
          "output_type": "stream",
          "name": "stderr",
          "text": [
            "ERROR:root:Division by zero error occurred: division by zero\n"
          ]
        }
      ]
    },
    {
      "cell_type": "code",
      "source": [
        "#7.  How do you log information at different levels (INFO, ERROR, WARNING) in Python using the logging module\n",
        "import logging\n",
        "\n",
        "logging.basicConfig(level=logging.DEBUG, filename='app.log', filemode='w',\n",
        "                    format='%(levelname)s:%(message)s')\n",
        "\n",
        "logging.info(\"This is an info message.\")\n",
        "logging.warning(\"This is a warning message.\")\n",
        "logging.error(\"This is an error message.\")\n"
      ],
      "metadata": {
        "colab": {
          "base_uri": "https://localhost:8080/"
        },
        "id": "gfFoXU9G0qU-",
        "outputId": "fe33492d-07f7-4341-cba7-02846708fd76"
      },
      "execution_count": 9,
      "outputs": [
        {
          "output_type": "stream",
          "name": "stderr",
          "text": [
            "WARNING:root:This is a warning message.\n",
            "ERROR:root:This is an error message.\n"
          ]
        }
      ]
    },
    {
      "cell_type": "code",
      "source": [
        "#8.  Write a program to handle a file opening error using exception handling\n",
        "try:\n",
        "    with open(\"nonexistent_file.txt\", \"r\") as file:\n",
        "        content = file.read()\n",
        "        print(content)\n",
        "except FileNotFoundError:\n",
        "    print(\"Error: The file was not found.\")\n"
      ],
      "metadata": {
        "colab": {
          "base_uri": "https://localhost:8080/"
        },
        "id": "lEIBPdOo01Wl",
        "outputId": "6b55223e-ed19-4b54-a34a-fdfeafd951ca"
      },
      "execution_count": 10,
      "outputs": [
        {
          "output_type": "stream",
          "name": "stdout",
          "text": [
            "Error: The file was not found.\n"
          ]
        }
      ]
    },
    {
      "cell_type": "code",
      "source": [
        "#9. How can you read a file line by line and store its content in a list in Python?\n",
        "with open(\"example.txt\", \"r\") as file:\n",
        "    lines = file.readlines()\n",
        "\n"
      ],
      "metadata": {
        "id": "FyOIintF1A4E"
      },
      "execution_count": 13,
      "outputs": []
    },
    {
      "cell_type": "code",
      "source": [
        "#10.  How can you append data to an existing file in Python?\n",
        "with open(\"example.txt\", \"a\") as file:\n",
        "    file.write(\"This is new appended data.\\n\")\n"
      ],
      "metadata": {
        "id": "_eR3IZxh1Qep"
      },
      "execution_count": 14,
      "outputs": []
    },
    {
      "cell_type": "code",
      "source": [
        "#11. Write a Python program that uses a try-except block to handle an error when attempting to access a dictionary key that doesn't exist\n",
        "my_dict = {\"name\": \"Akshay\", \"age\": 25}\n",
        "\n",
        "try:\n",
        "    print(my_dict[\"city\"])\n",
        "except KeyError:\n",
        "    print(\"Error: The key 'city' does not exist in the dictionary.\")"
      ],
      "metadata": {
        "colab": {
          "base_uri": "https://localhost:8080/"
        },
        "id": "TgOHGLEM1hSj",
        "outputId": "dfcede1c-1e99-4d4f-c086-4a7a9ca610c4"
      },
      "execution_count": 16,
      "outputs": [
        {
          "output_type": "stream",
          "name": "stdout",
          "text": [
            "Error: The key 'city' does not exist in the dictionary.\n"
          ]
        }
      ]
    },
    {
      "cell_type": "code",
      "source": [
        "#12. Write a program that demonstrates using multiple except blocks to handle different types of exceptions\n",
        "try:\n",
        "    num = int(input(\"Enter a number: \"))\n",
        "    result = 10 / num\n",
        "    print(\"Result is:\", result)\n",
        "except ValueError:\n",
        "    print(\"Error: Invalid input. Please enter a valid number.\")\n",
        "except ZeroDivisionError:\n",
        "    print(\"Error: Cannot divide by zero.\")\n",
        "except Exception as e:\n",
        "    print(\"An unexpected error occurred:\", e)\n"
      ],
      "metadata": {
        "colab": {
          "base_uri": "https://localhost:8080/"
        },
        "id": "IZNAmg1f1vcZ",
        "outputId": "a03b6a67-d3e4-44ef-b39d-67f10012f94c"
      },
      "execution_count": 17,
      "outputs": [
        {
          "output_type": "stream",
          "name": "stdout",
          "text": [
            "Enter a number: 20\n",
            "Result is: 0.5\n"
          ]
        }
      ]
    },
    {
      "cell_type": "code",
      "source": [
        "#13.  How would you check if a file exists before attempting to read it in Python?\n",
        "import os\n",
        "\n",
        "if os.path.exists(\"example.txt\"):\n",
        "    with open(\"example.txt\", \"r\") as file:\n",
        "        content = file.read()\n",
        "        print(content)\n",
        "else:\n",
        "    print(\"The file does not exist.\")"
      ],
      "metadata": {
        "colab": {
          "base_uri": "https://localhost:8080/"
        },
        "id": "u8B_tujC2DcL",
        "outputId": "0f50c331-1d4a-4a2a-d1d6-f9ec5c37ff42"
      },
      "execution_count": 18,
      "outputs": [
        {
          "output_type": "stream",
          "name": "stdout",
          "text": [
            "Hello, this is a test string.This is new appended data.\n",
            "\n"
          ]
        }
      ]
    },
    {
      "cell_type": "code",
      "source": [
        "#14. Write a program that uses the logging module to log both informational and error messages\n",
        "import logging\n",
        "logging.basicConfig(\n",
        "    filename='app_log.txt',\n",
        "    level=logging.DEBUG,\n",
        "    format='%(asctime)s - %(levelname)s - %(message)s'\n",
        ")\n",
        "logging.info(\"Program started successfully.\")\n",
        "try:\n",
        "    num = int(input(\"Enter a number: \"))\n",
        "    result = 10 / num\n",
        "    logging.info(f\"Division successful. Result: {result}\")\n",
        "except ZeroDivisionError:\n",
        "    logging.error(\"Attempted to divide by zero.\")\n",
        "except ValueError:\n",
        "    logging.error(\"Invalid input. A number was expected.\")\n"
      ],
      "metadata": {
        "colab": {
          "base_uri": "https://localhost:8080/"
        },
        "id": "r5wLfSV32Rty",
        "outputId": "4f851262-d3bf-444a-c2d1-9eeaeb3ab958"
      },
      "execution_count": 19,
      "outputs": [
        {
          "name": "stdout",
          "output_type": "stream",
          "text": [
            "Enter a number: 0\n"
          ]
        },
        {
          "output_type": "stream",
          "name": "stderr",
          "text": [
            "ERROR:root:Attempted to divide by zero.\n"
          ]
        }
      ]
    },
    {
      "cell_type": "code",
      "source": [
        "#15.  Write a Python program that prints the content of a file and handles the case when the file is empty\n",
        "try:\n",
        "    with open(\"example.txt\", \"r\") as file:\n",
        "        content = file.read()\n",
        "        if content:\n",
        "            print(\"File Content:\\n\", content)\n",
        "        else:\n",
        "            print(\"The file is empty.\")\n",
        "except FileNotFoundError:\n",
        "    print(\"Error: The file does not exist.\")\n"
      ],
      "metadata": {
        "colab": {
          "base_uri": "https://localhost:8080/"
        },
        "id": "980ACu6-2p3L",
        "outputId": "ee0dab78-793f-496a-e9cd-f6c451dcacf4"
      },
      "execution_count": 20,
      "outputs": [
        {
          "output_type": "stream",
          "name": "stdout",
          "text": [
            "File Content:\n",
            " Hello, this is a test string.This is new appended data.\n",
            "\n"
          ]
        }
      ]
    },
    {
      "cell_type": "code",
      "source": [
        "#16.  Demonstrate how to use memory profiling to check the memory usage of a small program\n",
        "get_ipython().system('pip install memory-profiler')\n",
        "from memory_profiler import profile\n",
        "\n",
        "@profile\n",
        "def create_list():\n",
        "    data = [i * 2 for i in range(100000)]\n",
        "    return data\n",
        "\n",
        "if __name__ == \"__main__\":\n",
        "    create_list()"
      ],
      "metadata": {
        "colab": {
          "base_uri": "https://localhost:8080/"
        },
        "id": "OFokIBN8211O",
        "outputId": "84cfce53-4b75-482f-fb1c-36101b968935"
      },
      "execution_count": 31,
      "outputs": [
        {
          "output_type": "stream",
          "name": "stdout",
          "text": [
            "Requirement already satisfied: memory-profiler in /usr/local/lib/python3.11/dist-packages (0.61.0)\n",
            "Requirement already satisfied: psutil in /usr/local/lib/python3.11/dist-packages (from memory-profiler) (5.9.5)\n",
            "ERROR: Could not find file /tmp/ipython-input-31-3231629476.py\n"
          ]
        }
      ]
    },
    {
      "cell_type": "code",
      "source": [
        "#17.  Write a Python program to create and write a list of numbers to a file, one number per line\n",
        "numbers = [1, 2, 3, 4, 5]\n",
        "\n",
        "with open(\"numbers.txt\", \"w\") as file:\n",
        "    for number in numbers:\n",
        "        file.write(f\"{number}\\n\")\n"
      ],
      "metadata": {
        "id": "Qwq4IMH83Q3e"
      },
      "execution_count": 32,
      "outputs": []
    },
    {
      "cell_type": "code",
      "source": [
        "#18.  How would you implement a basic logging setup that logs to a file with rotation after 1MB?\n",
        "import logging\n",
        "from logging.handlers import RotatingFileHandler\n",
        "\n",
        "handler = RotatingFileHandler(\"app.log\", maxBytes=1_000_000, backupCount=3)\n",
        "\n",
        "formatter = logging.Formatter('%(asctime)s - %(levelname)s - %(message)s')\n",
        "handler.setFormatter(formatter)\n",
        "\n",
        "logger = logging.getLogger()\n",
        "logger.setLevel(logging.INFO)\n",
        "logger.addHandler(handler)\n",
        "\n",
        "logger.info(\"This is an info message.\")\n",
        "logger.error(\"This is an error message.\")\n"
      ],
      "metadata": {
        "colab": {
          "base_uri": "https://localhost:8080/"
        },
        "id": "jbLZ7cJx3wfh",
        "outputId": "954ffdb3-1c7b-4592-ba28-fb7fa62ba276"
      },
      "execution_count": 33,
      "outputs": [
        {
          "output_type": "stream",
          "name": "stderr",
          "text": [
            "INFO:root:This is an info message.\n",
            "ERROR:root:This is an error message.\n"
          ]
        }
      ]
    },
    {
      "cell_type": "code",
      "source": [
        "#19.  Write a program that handles both IndexError and KeyError using a try-except block\n",
        "my_list = [10, 20, 30]\n",
        "my_dict = {\"a\": 1, \"b\": 2}\n",
        "\n",
        "try:\n",
        "    print(my_list[5])\n",
        "    print(my_dict[\"z\"])\n",
        "except IndexError:\n",
        "    print(\"Error: List index is out of range.\")\n",
        "except KeyError:\n",
        "    print(\"Error: Dictionary key not found.\")\n"
      ],
      "metadata": {
        "colab": {
          "base_uri": "https://localhost:8080/"
        },
        "id": "gDEEQNRM4t-L",
        "outputId": "4a3bda2b-fe2d-474d-b4a8-f7fec56027be"
      },
      "execution_count": 34,
      "outputs": [
        {
          "output_type": "stream",
          "name": "stdout",
          "text": [
            "Error: List index is out of range.\n"
          ]
        }
      ]
    },
    {
      "cell_type": "code",
      "source": [
        "#20. How would you open a file and read its contents using a context manager in Python?\n",
        "with open(\"example.txt\", \"r\") as file:\n",
        "    content = file.read()\n",
        "    print(content)"
      ],
      "metadata": {
        "colab": {
          "base_uri": "https://localhost:8080/"
        },
        "id": "Kh20gTDz46bx",
        "outputId": "c087fd2c-94d3-463d-a459-6b68988b150e"
      },
      "execution_count": 35,
      "outputs": [
        {
          "output_type": "stream",
          "name": "stdout",
          "text": [
            "Hello, this is a test string.This is new appended data.\n",
            "\n"
          ]
        }
      ]
    },
    {
      "cell_type": "code",
      "source": [
        "#21. Write a Python program that reads a file and prints the number of occurrences of a specific word\n",
        "def count_word_occurrences(filename, word):\n",
        "    try:\n",
        "        with open(filename, 'r') as file:\n",
        "            content = file.read().lower()\n",
        "            word_count = content.count(word.lower())\n",
        "            print(f\"The word '{word}' occurs {word_count} times in the file.\")\n",
        "    except FileNotFoundError:\n",
        "        print(\"Error: The file does not exist.\")\n",
        "count_word_occurrences(\"example.txt\", \"python\")\n"
      ],
      "metadata": {
        "colab": {
          "base_uri": "https://localhost:8080/"
        },
        "id": "9K0Bd5685FgD",
        "outputId": "ed9fc5ec-5e2c-4cd1-af08-e39ce29e8319"
      },
      "execution_count": 36,
      "outputs": [
        {
          "output_type": "stream",
          "name": "stdout",
          "text": [
            "The word 'python' occurs 0 times in the file.\n"
          ]
        }
      ]
    },
    {
      "cell_type": "code",
      "source": [
        "#22.  How can you check if a file is empty before attempting to read its contents?\n",
        "import os\n",
        "\n",
        "file_path = \"example.txt\"\n",
        "\n",
        "if os.path.getsize(file_path) == 0:\n",
        "    print(\"The file is empty.\")\n",
        "else:\n",
        "    with open(file_path, \"r\") as file:\n",
        "        content = file.read()\n",
        "        print(content)\n"
      ],
      "metadata": {
        "colab": {
          "base_uri": "https://localhost:8080/"
        },
        "id": "chO41D3U5W6q",
        "outputId": "e8ec91b5-63f5-4490-fef6-d11610f89ffb"
      },
      "execution_count": 37,
      "outputs": [
        {
          "output_type": "stream",
          "name": "stdout",
          "text": [
            "Hello, this is a test string.This is new appended data.\n",
            "\n"
          ]
        }
      ]
    },
    {
      "cell_type": "code",
      "source": [
        "#23. Write a Python program that writes to a log file when an error occurs during file handling.\n",
        "import logging\n",
        "\n",
        "logging.basicConfig(filename='file_errors.log', level=logging.ERROR,\n",
        "                    format='%(asctime)s - %(levelname)s - %(message)s')\n",
        "\n",
        "try:\n",
        "    with open(\"nonexistent_file.txt\", \"r\") as file:\n",
        "        content = file.read()\n",
        "        print(content)\n",
        "except FileNotFoundError as e:\n",
        "    logging.error(\"File not found error: %s\", e)\n",
        "    print(\"An error occurred. Check the log file for details.\")\n"
      ],
      "metadata": {
        "colab": {
          "base_uri": "https://localhost:8080/"
        },
        "id": "pJ7FD9O25fi6",
        "outputId": "04d48f1d-4473-44ac-9e00-03269c17d3fb"
      },
      "execution_count": 39,
      "outputs": [
        {
          "output_type": "stream",
          "name": "stderr",
          "text": [
            "ERROR:root:File not found error: [Errno 2] No such file or directory: 'nonexistent_file.txt'\n"
          ]
        },
        {
          "output_type": "stream",
          "name": "stdout",
          "text": [
            "An error occurred. Check the log file for details.\n"
          ]
        }
      ]
    },
    {
      "cell_type": "code",
      "source": [],
      "metadata": {
        "id": "pl1WDTJa53vL"
      },
      "execution_count": null,
      "outputs": []
    }
  ]
}